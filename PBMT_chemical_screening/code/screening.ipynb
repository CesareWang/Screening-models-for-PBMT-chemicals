{
 "cells": [
  {
   "cell_type": "code",
   "execution_count": 14,
   "metadata": {},
   "outputs": [],
   "source": [
    "import os\n",
    "import torch\n",
    "import torch.nn.functional as F\n",
    "import numpy as np\n",
    "import sys\n",
    "sys.setrecursionlimit(50000)\n",
    "import pickle\n",
    "torch.backends.cudnn.benchmark = True\n",
    "torch.set_default_tensor_type('torch.cuda.FloatTensor')\n",
    "torch.nn.Module.dump_patches = True\n",
    "import pandas as pd\n",
    "from AttentiveFP import save_smiles_dicts, get_smiles_array\n",
    "from rdkit import Chem"
   ]
  },
  {
   "cell_type": "code",
   "execution_count": 24,
   "metadata": {},
   "outputs": [
    {
     "name": "stdout",
     "output_type": "stream",
     "text": [
      "number of all smiles:  30\n",
      "feature dicts file saved as ../data/data_example.pickle\n"
     ]
    }
   ],
   "source": [
    "raw_filename = \"../data/data_example.csv\"\n",
    "feature_filename = raw_filename.replace('.csv','.pickle')\n",
    "filename = raw_filename.replace('.csv','')\n",
    "prefix_filename = raw_filename.split('/')[-1].replace('.csv','')\n",
    "smiles_tasks_df = pd.read_csv(raw_filename)\n",
    "\n",
    "smilesList = smiles_tasks_df.smiles.values\n",
    "print(\"number of all smiles: \",len(smilesList))\n",
    "batch_size = 20\n",
    "atom_num_dist = []\n",
    "remained_smiles = []\n",
    "canonical_smiles_list = []\n",
    "for smiles in smilesList:\n",
    "    try:        \n",
    "        mol = Chem.MolFromSmiles(smiles)\n",
    "        atom_num_dist.append(len(mol.GetAtoms()))\n",
    "        canonical_smiles_list.append(Chem.MolToSmiles(Chem.MolFromSmiles(smiles), isomericSmiles=True))\n",
    "        remained_smiles.append(smiles)\n",
    "    except:\n",
    "        print(\"not successfully processed smiles: \", smiles)\n",
    "        pass\n",
    "smiles_tasks_df = smiles_tasks_df[smiles_tasks_df[\"smiles\"].isin(remained_smiles)]\n",
    "smiles_tasks_df['cano_smiles'] =canonical_smiles_list\n",
    "\n",
    "smilesList = [smiles for smiles in canonical_smiles_list if len(Chem.MolFromSmiles(smiles).GetAtoms())<200]\n",
    "if os.path.isfile(feature_filename):\n",
    "    feature_dicts = pickle.load(open(feature_filename, \"rb\" ))\n",
    "else:\n",
    "    feature_dicts = save_smiles_dicts(smilesList,filename)\n",
    "remained_df = smiles_tasks_df[smiles_tasks_df[\"cano_smiles\"].isin(feature_dicts['smiles_to_atom_mask'].keys())]\n",
    "\n",
    "smiles_tasks_df = remained_df\n",
    "model = torch.load('saved_models/PBMT_chemical_screening_model.pt')\n",
    "model.eval()\n",
    "y_val_list = {}\n",
    "y_pred_list = {}\n",
    "losses_list = []\n",
    "valList = np.arange(0,smiles_tasks_df.shape[0])\n",
    "batch_list = []\n",
    "y_pred_label=[]\n",
    "y_pred_adjust_list=[]\n",
    "for i in range(0, smiles_tasks_df.shape[0], batch_size):\n",
    "    batch = valList[i:i+batch_size]\n",
    "    batch_list.append(batch)   \n",
    "for counter, eval_batch in enumerate(batch_list):\n",
    "    batch_df = smiles_tasks_df.loc[eval_batch,:]\n",
    "    smiles_list = batch_df.cano_smiles.values\n",
    "    x_atom, x_bonds, x_atom_index, x_bond_index, x_mask, smiles_to_rdkit_list = get_smiles_array(smiles_list,feature_dicts)\n",
    "    atoms_prediction, mol_prediction = model(torch.Tensor(x_atom),torch.Tensor(x_bonds),torch.cuda.LongTensor(x_atom_index),torch.cuda.LongTensor(x_bond_index),torch.Tensor(x_mask))\n",
    "    y_pred_adjust = F.softmax(mol_prediction,dim=-1).data.cpu().numpy()[:,1]\n",
    "    for i,y in enumerate(y_pred_adjust):\n",
    "        if y > 0.5:\n",
    "            y_pred_label.append(1)\n",
    "        else:\n",
    "            y_pred_label.append(0)\n",
    "smiles_tasks_df['pred_label'] = y_pred_label\n",
    "smiles_tasks_df.to_csv(\"../results/screening_results.csv\", index=False)"
   ]
  }
 ],
 "metadata": {
  "kernelspec": {
   "display_name": "pyg",
   "language": "python",
   "name": "python3"
  },
  "language_info": {
   "codemirror_mode": {
    "name": "ipython",
    "version": 3
   },
   "file_extension": ".py",
   "mimetype": "text/x-python",
   "name": "python",
   "nbconvert_exporter": "python",
   "pygments_lexer": "ipython3",
   "version": "3.7.11"
  }
 },
 "nbformat": 4,
 "nbformat_minor": 4
}
